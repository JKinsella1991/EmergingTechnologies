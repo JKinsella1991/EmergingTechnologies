{
 "cells": [
  {
   "cell_type": "markdown",
   "metadata": {},
   "source": [
    "# Numpy.Random Notebook\n",
    "### James Kinsella - G00282261@gmit.ie"
   ]
  },
  {
   "cell_type": "markdown",
   "metadata": {},
   "source": [
    "# About NumPy\n",
    "\n",
    "\n",
    "NumPy is the fundamental package for scientific computing with Python. It contains among other things: \n",
    "\n",
    " - a powerful N-dimensional array object\n",
    " - sophisticated (broadcasting) functions\n",
    " - tools for integrating C/C++ and Fortran code\n",
    " - useful linear algebra, Fourier transform, and random number capabilities\n",
    "\n",
    "Besides its obvious scientific uses, NumPy can also be used as an efficient multi-dimensional container of generic data. Arbitrary data-types can be defined.\n",
    "This allows NumPy to seamlessly and speedily integrate with a wide variety of databases.\n",
    "\n",
    "In this notebook I will explain the concepts behind the NumPy package, using plots of the various distributions for clarity.\n"
   ]
  },
  {
   "cell_type": "markdown",
   "metadata": {},
   "source": [
    "# Imports\n",
    "\n",
    "Importing packages in Jupyter is quite straightforward.\n",
    "Simply type \"import (package name) as (namespace)\" to do it!\n",
    "\n",
    "For our example below we'll import the NumPy package, using \"np\" as our namespace. Note that naming conventions for namespaces are arbitrary, meaning \n",
    "it's upto personal preference. But clarity is also helpful, so \"np\" will do nicely.\n",
    "\n",
    "(Additionally we'll import MatPlotLib, to help plot graphs later)."
   ]
  },
  {
   "cell_type": "code",
   "execution_count": null,
   "metadata": {},
   "outputs": [],
   "source": [
    "import numpy as np\n",
    "import matplotlib.pyplot as plt"
   ]
  },
  {
   "cell_type": "markdown",
   "metadata": {},
   "source": [
    "# NumPy.Random \n",
    "\n",
    "This library is used to generate random data, a mainstay in data analysis. This data can be used to verify the functionality of a script or the output of the notebook itself.\n",
    "\n",
    "Three of the distributions of NumPy I'll be looking at are:\n",
    "\n",
    "- Uniform\n",
    "- Normal\n",
    "- Binomial\n",
    "\n",
    "But we'll touch on those momentarily.\n",
    "\n",
    "First, an example of Simple Random Data is as follows:"
   ]
  },
  {
   "cell_type": "code",
   "execution_count": 2,
   "metadata": {},
   "outputs": [
    {
     "data": {
      "text/plain": [
       "array([[0.14754244, 0.17645106, 0.8662274 ],\n",
       "       [0.84807314, 0.9654216 , 0.48991861],\n",
       "       [0.84633044, 0.34070407, 0.71829152],\n",
       "       [0.54533768, 0.78558048, 0.38523357],\n",
       "       [0.43144122, 0.1373475 , 0.88556371]])"
      ]
     },
     "execution_count": 2,
     "metadata": {},
     "output_type": "execute_result"
    }
   ],
   "source": [
    "import numpy as np\n",
    "\n",
    "np.random.rand(5,3)"
   ]
  },
  {
   "cell_type": "markdown",
   "metadata": {},
   "source": [
    "Above you can see this random data is output into an array of 5 rows and 3 columns (5,3 respectively). Note that the data returned is known as \"Uniform Distribution\", meaning that any value has a chance of being returned to us, regardless of it's relevancy.\n",
    "\n",
    "To return values that may be more relevant (i.e, closer to the mean) we can use \"Normal Distribution\". To do this you simply add an \"n\" to the end of your function:"
   ]
  },
  {
   "cell_type": "code",
   "execution_count": 3,
   "metadata": {},
   "outputs": [
    {
     "data": {
      "text/plain": [
       "array([[ 2.10637355,  0.11285477, -0.96476077],\n",
       "       [-1.00659029,  0.11777902,  0.9221033 ],\n",
       "       [ 1.6259215 ,  0.78981856,  1.37401778],\n",
       "       [-1.30769091, -0.51447723, -0.02772475],\n",
       "       [ 1.32375243,  0.40446924,  0.7411589 ]])"
      ]
     },
     "execution_count": 3,
     "metadata": {},
     "output_type": "execute_result"
    }
   ],
   "source": [
    "np.random.randn(5,3)"
   ]
  },
  {
   "cell_type": "code",
   "execution_count": 15,
   "metadata": {},
   "outputs": [
    {
     "data": {
      "image/png": "[encoded data removed]",
      "text/plain": [
       "<Figure size 432x288 with 1 Axes>"
      ]
     },
     "metadata": {},
     "output_type": "display_data"
    }
   ],
   "source": [
    "### Uniform Distribution Example\n",
    "\n",
    "import matplotlib.pyplot as plt\n",
    "\n",
    "u = np.random.rand(500)\n",
    "plt.ylabel(\"Frequency\")\n",
    "plt.xlabel(\"Uniform values\")\n",
    "plt.hist(u)\n",
    "plt.show()"
   ]
  },
  {
   "cell_type": "markdown",
   "metadata": {},
   "source": [
    "As you can see above, the output of the Uniform distribution is quite...Uniform, indeed. While this is good it doesn't give the accuracy someone may want when plotting or displaying data in a histogram. For this the mean of the data must be accounted for. Which brings us back to Normal Distribution."
   ]
  },
  {
   "cell_type": "code",
   "execution_count": 8,
   "metadata": {},
   "outputs": [
    {
     "data": {
      "image/png": "[encoded data removed]",
      "text/plain": [
       "<Figure size 432x288 with 1 Axes>"
      ]
     },
     "metadata": {},
     "output_type": "display_data"
    }
   ],
   "source": [
    "### Normal Distribution Example\n",
    "\n",
    "n = np.random.randn(500)\n",
    "plt.ylabel(\"Frequency\")\n",
    "plt.xlabel(\"Normal values\")\n",
    "plt.hist(n)\n",
    "plt.show()"
   ]
  },
  {
   "cell_type": "markdown",
   "metadata": {},
   "source": [
    "As you can see above the Normal Distribution histogram has a more noticable peak, as the mean of the function is more accurately represented. As such "
   ]
  },
  {
   "cell_type": "markdown",
   "metadata": {},
   "source": [
    "### Binomial Distribution Example\n",
    "\n",
    "Finally we'll take a look at the Binomial distribution of NumPy. This distribution is used when there are only two possible outcomes to an event. True or false, 0 or 1, etc. The factors taken into account in this distribtion are:\n",
    "\n",
    "1) Number of trials, \n",
    "2) Probability of success, and\n",
    "3) The number of successes\n",
    "\n",
    "Let's do an example using a coin flip:"
   ]
  },
  {
   "cell_type": "code",
   "execution_count": 14,
   "metadata": {},
   "outputs": [
    {
     "data": {
      "image/png": "[encoded data removed]",
      "text/plain": [
       "<Figure size 432x288 with 1 Axes>"
      ]
     },
     "metadata": {},
     "output_type": "display_data"
    }
   ],
   "source": [
    "s = np.random.binomial(50, 0.5, 1000)\n",
    "plt.hist(s)\n",
    "plt.show()"
   ]
  },
  {
   "cell_type": "markdown",
   "metadata": {},
   "source": [
    "# References\n",
    "\n",
    "https://medium.com/ibm-data-science-experience/markdown-for-jupyter-notebooks-cheatsheet-386c05aeebed\n",
    "https://docs.scipy.org/doc/numpy-1.14.1/reference/routines.random.html\n",
    "https://docs.scipy.org/doc/numpy/reference/generated/numpy.random.normal.html\n",
    "https://docs.scipy.org/doc/numpy/reference/generated/numpy.random.binomial.html"
   ]
  }
 ],
 "metadata": {
  "kernelspec": {
   "display_name": "Python 3",
   "language": "python",
   "name": "python3"
  },
  "language_info": {
   "codemirror_mode": {
    "name": "ipython",
    "version": 3
   },
   "file_extension": ".py",
   "mimetype": "text/x-python",
   "name": "python",
   "nbconvert_exporter": "python",
   "pygments_lexer": "ipython3",
   "version": "3.6.5"
  }
 },
 "nbformat": 4,
 "nbformat_minor": 2
}
