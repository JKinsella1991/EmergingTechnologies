{
 "cells": [
  {
   "cell_type": "markdown",
   "metadata": {},
   "source": [
    "# Digit Recognition Notebook (unfinished)\n",
    "### James Kinsella - G00282261@gmit.ie"
   ]
  },
  {
   "cell_type": "code",
   "execution_count": 2,
   "metadata": {},
   "outputs": [
    {
     "name": "stderr",
     "output_type": "stream",
     "text": [
      "C:\\Users\\Cheech\\Anaconda3\\lib\\site-packages\\h5py\\__init__.py:36: FutureWarning: Conversion of the second argument of issubdtype from `float` to `np.floating` is deprecated. In future, it will be treated as `np.float64 == np.dtype(float).type`.\n",
      "  from ._conv import register_converters as _register_converters\n",
      "Using TensorFlow backend.\n"
     ]
    }
   ],
   "source": [
    "# import keras packages\n",
    "# NOTE: To import the keras package you must install tensorflow - which can be found here: https://www.tensorflow.org/install/\n",
    "import keras as kr\n",
    "\n",
    "# Create the sequential model\n",
    "model = kr.models.Sequential()\n",
    "\n",
    "# Add layers to the model\n",
    "model.add(kr.layers.Dense(units=1000, activation='linear', input_dim=784))\n",
    "model.add(kr.layers.Dense(units=400, activation='relu'))\n",
    "model.add(kr.layers.Dense(units=10, activation='softmax'))\n",
    "\n",
    "# Compile the model\n",
    "model.compile(loss='categorical_crossentropy', optimizer='sgd', metrics=['accuracy'])"
   ]
  },
  {
   "cell_type": "code",
   "execution_count": 5,
   "metadata": {},
   "outputs": [],
   "source": [
    "# Import the gzip and numpy packages\n",
    "import gzip\n",
    "import numpy as np\n",
    "\n",
    "# This opens the images file which is located in our local directory and assigns the read in value to a variable\n",
    "with gzip.open('C:/Users/Cheech/source/repos/EmergingTechnologies/data/t10k-images-idx3-ubyte.gz', 'rb') as f:\n",
    "    image_content = f.read()\n",
    "    \n",
    "# This opens the label file which is located in our local directory and assigns the read in value to a variable\n",
    "with gzip.open('C:/Users/Cheech/source/repos/EmergingTechnologies/data/t10k-labels-idx1-ubyte.gz', 'rb') as f:\n",
    "    label_content = f.read()\n",
    "    \n",
    "# This opens the training images file which is located in our local directory and assigns the read in value to a variable\n",
    "with gzip.open('C:/Users/Cheech/source/repos/EmergingTechnologies/data/train-images-idx3-ubyte.gz', 'rb') as f:\n",
    "    train_img = f.read()\n",
    "\n",
    "# This opens the training label file which is located in our local directory and assigns the read in value to a variable\n",
    "with gzip.open('C:/Users/Cheech/source/repos/EmergingTechnologies/data/train-labels-idx1-ubyte.gz', 'rb') as f:\n",
    "    train_lbl = f.read()\n",
    "    \n",
    "# Assign the training data set to a numpy array holding all the values in a 28x28 array\n",
    "train_img = ~np.array(list(train_img[16:])).reshape(60000, 28, 28).astype(np.uint8) / 255.0\n",
    "# Assign the training label data set to a numpy array\n",
    "train_lbl =  np.array(list(train_lbl[8:])).astype(np.uint8)"
   ]
  },
  {
   "cell_type": "code",
   "execution_count": 6,
   "metadata": {},
   "outputs": [
    {
     "name": "stdout",
     "output_type": "stream",
     "text": [
      "[[0 0 0 0 0 0 0 0 0 0 0 0 0 0 0 0 0 0 0 0 0 0 0 0 0 0 0 0]\n",
      " [0 0 0 0 0 0 0 0 0 0 0 0 0 0 0 0 0 0 0 0 0 0 0 0 0 0 0 0]\n",
      " [0 0 0 0 0 0 0 0 0 0 0 0 0 0 0 0 0 0 0 0 0 0 0 0 0 0 0 0]\n",
      " [0 0 0 0 0 0 0 0 0 0 0 0 0 0 0 0 0 0 0 0 0 0 0 0 0 0 0 0]\n",
      " [0 0 0 0 0 0 0 0 0 0 0 0 0 0 0 0 0 0 0 0 0 0 0 0 0 0 0 0]\n",
      " [0 0 0 0 0 0 0 0 0 0 0 0 0 0 0 0 0 0 0 0 0 0 0 0 0 0 0 0]\n",
      " [0 0 0 0 0 0 0 0 0 0 0 0 0 0 0 0 0 0 0 0 0 0 0 0 0 0 0 0]\n",
      " [0 0 0 0 0 0 1 1 1 1 1 1 0 0 0 0 0 0 0 0 0 0 0 0 0 0 0 0]\n",
      " [0 0 0 0 0 0 1 1 1 1 1 1 1 1 1 1 1 1 1 1 1 1 0 0 0 0 0 0]\n",
      " [0 0 0 0 0 0 1 1 1 1 1 1 1 1 1 1 1 1 1 1 1 1 0 0 0 0 0 0]\n",
      " [0 0 0 0 0 0 0 0 0 0 0 1 1 1 1 1 1 1 1 1 1 1 0 0 0 0 0 0]\n",
      " [0 0 0 0 0 0 0 0 0 0 0 0 0 0 0 0 0 0 1 1 1 1 0 0 0 0 0 0]\n",
      " [0 0 0 0 0 0 0 0 0 0 0 0 0 0 0 0 0 1 1 1 1 0 0 0 0 0 0 0]\n",
      " [0 0 0 0 0 0 0 0 0 0 0 0 0 0 0 0 0 1 1 1 1 0 0 0 0 0 0 0]\n",
      " [0 0 0 0 0 0 0 0 0 0 0 0 0 0 0 0 1 1 1 1 0 0 0 0 0 0 0 0]\n",
      " [0 0 0 0 0 0 0 0 0 0 0 0 0 0 0 0 1 1 1 1 0 0 0 0 0 0 0 0]\n",
      " [0 0 0 0 0 0 0 0 0 0 0 0 0 0 0 1 1 1 1 0 0 0 0 0 0 0 0 0]\n",
      " [0 0 0 0 0 0 0 0 0 0 0 0 0 0 0 1 1 1 0 0 0 0 0 0 0 0 0 0]\n",
      " [0 0 0 0 0 0 0 0 0 0 0 0 0 0 1 1 1 1 0 0 0 0 0 0 0 0 0 0]\n",
      " [0 0 0 0 0 0 0 0 0 0 0 0 0 1 1 1 1 0 0 0 0 0 0 0 0 0 0 0]\n",
      " [0 0 0 0 0 0 0 0 0 0 0 0 1 1 1 1 1 0 0 0 0 0 0 0 0 0 0 0]\n",
      " [0 0 0 0 0 0 0 0 0 0 0 0 1 1 1 1 0 0 0 0 0 0 0 0 0 0 0 0]\n",
      " [0 0 0 0 0 0 0 0 0 0 0 1 1 1 1 1 0 0 0 0 0 0 0 0 0 0 0 0]\n",
      " [0 0 0 0 0 0 0 0 0 0 0 1 1 1 1 0 0 0 0 0 0 0 0 0 0 0 0 0]\n",
      " [0 0 0 0 0 0 0 0 0 0 1 1 1 1 1 0 0 0 0 0 0 0 0 0 0 0 0 0]\n",
      " [0 0 0 0 0 0 0 0 0 0 1 1 1 1 1 0 0 0 0 0 0 0 0 0 0 0 0 0]\n",
      " [0 0 0 0 0 0 0 0 0 0 1 1 1 1 0 0 0 0 0 0 0 0 0 0 0 0 0 0]\n",
      " [0 0 0 0 0 0 0 0 0 0 0 0 0 0 0 0 0 0 0 0 0 0 0 0 0 0 0 0]]\n"
     ]
    }
   ],
   "source": [
    "# Assign the data set to a numpy array holding all the values in a 28x28 array\n",
    "image_test = ~np.array(list(image_content[16:])).reshape(10000,28,28).astype(np.uint8)\n",
    "\n",
    "# Assign the label data set to a numpy array\n",
    "label_test =  np.array(list(label_content[8:])).astype(np.uint8)\n",
    "\n",
    "# Display the bytes as 1s and 0s in an array\n",
    "print((~image_test[0]).astype(np.bool).astype(np.uint8))"
   ]
  },
  {
   "cell_type": "code",
   "execution_count": 7,
   "metadata": {},
   "outputs": [
    {
     "name": "stdout",
     "output_type": "stream",
     "text": [
      "[[1. 1. 1. ... 1. 1. 1.]\n",
      " [1. 1. 1. ... 1. 1. 1.]\n",
      " [1. 1. 1. ... 1. 1. 1.]\n",
      " ...\n",
      " [1. 1. 1. ... 1. 1. 1.]\n",
      " [1. 1. 1. ... 1. 1. 1.]\n",
      " [1. 1. 1. ... 1. 1. 1.]]\n"
     ]
    }
   ],
   "source": [
    "# Reshape the 3D array into a 1D array\n",
    "inputs = train_img.reshape(60000, 784)\n",
    "# Print the 1D array of inputs\n",
    "print(inputs)"
   ]
  },
  {
   "cell_type": "code",
   "execution_count": 8,
   "metadata": {},
   "outputs": [
    {
     "name": "stdout",
     "output_type": "stream",
     "text": [
      "9 [0 0 0 0 0 0 0 0 0 1]\n"
     ]
    }
   ],
   "source": [
    "# For encoding categorical variables.\n",
    "import sklearn.preprocessing as pre\n",
    "\n",
    "# set up the binary encoder\n",
    "encoder = pre.LabelBinarizer()\n",
    "# fit the labels into the binary format\n",
    "encoder.fit(train_lbl)\n",
    "# Transform the labels to the binary format\n",
    "outputs = encoder.transform(train_lbl)\n",
    "\n",
    "# Print the labels position and the binary array in the same position\n",
    "# Result should show the label number 5 and a 1 in the 6th position to indicate the number 5 (0-9)\n",
    "print(train_lbl[19], outputs[19])"
   ]
  },
  {
   "cell_type": "code",
   "execution_count": 9,
   "metadata": {},
   "outputs": [
    {
     "name": "stdout",
     "output_type": "stream",
     "text": [
      "0 [[1 0 0 0 0 0 0 0 0 0]]\n",
      "1 [[0 1 0 0 0 0 0 0 0 0]]\n",
      "2 [[0 0 1 0 0 0 0 0 0 0]]\n",
      "3 [[0 0 0 1 0 0 0 0 0 0]]\n",
      "4 [[0 0 0 0 1 0 0 0 0 0]]\n",
      "5 [[0 0 0 0 0 1 0 0 0 0]]\n",
      "6 [[0 0 0 0 0 0 1 0 0 0]]\n",
      "7 [[0 0 0 0 0 0 0 1 0 0]]\n",
      "8 [[0 0 0 0 0 0 0 0 1 0]]\n",
      "9 [[0 0 0 0 0 0 0 0 0 1]]\n"
     ]
    }
   ],
   "source": [
    "for i in range(10):\n",
    "    print(i, encoder.transform([i]))"
   ]
  },
  {
   "cell_type": "code",
   "execution_count": 10,
   "metadata": {},
   "outputs": [
    {
     "name": "stdout",
     "output_type": "stream",
     "text": [
      "Epoch 1/2\n",
      "60000/60000 [==============================] - 35s 586us/step - loss: 0.7471 - acc: 0.7873\n",
      "Epoch 2/2\n",
      "60000/60000 [==============================] - 33s 554us/step - loss: 0.3953 - acc: 0.8855\n"
     ]
    },
    {
     "data": {
      "text/plain": [
       "<keras.callbacks.History at 0x252f3252978>"
      ]
     },
     "execution_count": 10,
     "metadata": {},
     "output_type": "execute_result"
    }
   ],
   "source": [
    "model.fit(inputs, outputs, epochs=2, batch_size=100)"
   ]
  },
  {
   "cell_type": "code",
   "execution_count": null,
   "metadata": {},
   "outputs": [
    {
     "name": "stdout",
     "output_type": "stream",
     "text": [
      "Train on 45000 samples, validate on 15000 samples\n",
      "Epoch 1/20\n",
      "45000/45000 [==============================] - 29s 637us/step - loss: 0.3531 - acc: 0.8966 - val_loss: 0.3330 - val_acc: 0.9017\n",
      "Epoch 2/20\n",
      "45000/45000 [==============================] - 24s 542us/step - loss: 0.3275 - acc: 0.9031 - val_loss: 0.3016 - val_acc: 0.9111\n",
      "Epoch 3/20\n",
      "45000/45000 [==============================] - 26s 571us/step - loss: 0.3104 - acc: 0.9093 - val_loss: 0.2996 - val_acc: 0.9085\n",
      "Epoch 4/20\n",
      "45000/45000 [==============================] - 25s 548us/step - loss: 0.2929 - acc: 0.9136 - val_loss: 0.2805 - val_acc: 0.9172\n",
      "Epoch 5/20\n",
      "45000/45000 [==============================] - 25s 564us/step - loss: 0.2798 - acc: 0.9182 - val_loss: 0.2695 - val_acc: 0.9209\n",
      "Epoch 6/20\n",
      "45000/45000 [==============================] - 26s 567us/step - loss: 0.2673 - acc: 0.9218 - val_loss: 0.2599 - val_acc: 0.9257\n",
      "Epoch 7/20\n",
      "45000/45000 [==============================] - 27s 592us/step - loss: 0.2557 - acc: 0.9257 - val_loss: 0.2486 - val_acc: 0.9288\n",
      "Epoch 8/20\n",
      "45000/45000 [==============================] - 27s 590us/step - loss: 0.2436 - acc: 0.9294 - val_loss: 0.2390 - val_acc: 0.9322\n",
      "Epoch 9/20\n",
      "45000/45000 [==============================] - 28s 614us/step - loss: 0.2343 - acc: 0.9321 - val_loss: 0.2381 - val_acc: 0.9280\n",
      "Epoch 10/20\n",
      "32800/45000 [====================>.........] - ETA: 6s - loss: 0.2231 - acc: 0.9358"
     ]
    }
   ],
   "source": [
    "# Import the matplotlib package\n",
    "import matplotlib.pyplot as plt\n",
    "\n",
    "# Train the model and assign it to a variable so we can use it to plot our data\n",
    "training = model.fit(inputs, outputs, epochs=20, validation_split=0.25, batch_size=100, verbose=1)\n",
    "\n",
    "#NOTE: If graph doesnt show after first run, rerun the initial model set up at the top and rerun this block again\n",
    "\n",
    "# Plot training & validation accuracy values\n",
    "plt.plot(training.history['acc'])\n",
    "plt.plot(training.history['val_acc'])\n",
    "plt.title('Model accuracy')\n",
    "plt.ylabel('Accuracy')\n",
    "plt.xlabel('Epoch')\n",
    "plt.legend(['Train', 'Test'], loc='lower right')\n",
    "plt.show()\n",
    "\n",
    "# Plot training & validation loss values\n",
    "plt.plot(training.history['loss'])\n",
    "plt.plot(training.history['val_loss'])\n",
    "plt.title('Model Loss')\n",
    "plt.ylabel('Loss')\n",
    "plt.xlabel('Epoch')\n",
    "plt.legend(['Train', 'Test'], loc='upper left')\n",
    "plt.show()"
   ]
  }
 ],
 "metadata": {
  "kernelspec": {
   "display_name": "Python 3",
   "language": "python",
   "name": "python3"
  },
  "language_info": {
   "codemirror_mode": {
    "name": "ipython",
    "version": 3
   },
   "file_extension": ".py",
   "mimetype": "text/x-python",
   "name": "python",
   "nbconvert_exporter": "python",
   "pygments_lexer": "ipython3",
   "version": "3.6.5"
  }
 },
 "nbformat": 4,
 "nbformat_minor": 2
}
